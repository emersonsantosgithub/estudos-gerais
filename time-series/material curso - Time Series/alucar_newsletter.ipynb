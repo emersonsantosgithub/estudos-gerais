{
 "cells": [
  {
   "cell_type": "markdown",
   "id": "67007730",
   "metadata": {},
   "source": [
    "# Alucar - analisando assinantes da newsletter"
   ]
  },
  {
   "cell_type": "code",
   "execution_count": 24,
   "id": "18f4c1c6",
   "metadata": {},
   "outputs": [],
   "source": [
    "import pandas as pd\n",
    "import seaborn as sns\n",
    "import matplotlib as plt"
   ]
  },
  {
   "cell_type": "code",
   "execution_count": 16,
   "id": "1dcb5de6",
   "metadata": {},
   "outputs": [],
   "source": [
    "df = pd.read_csv(\"newsletter_alucar.csv\")"
   ]
  },
  {
   "cell_type": "code",
   "execution_count": 17,
   "id": "a80eff2f",
   "metadata": {},
   "outputs": [
    {
     "name": "stdout",
     "output_type": "stream",
     "text": [
      "<class 'pandas.core.frame.DataFrame'>\n",
      "RangeIndex: 24 entries, 0 to 23\n",
      "Data columns (total 2 columns):\n",
      " #   Column      Non-Null Count  Dtype \n",
      "---  ------      --------------  ----- \n",
      " 0   mes         24 non-null     object\n",
      " 1   assinantes  24 non-null     int64 \n",
      "dtypes: int64(1), object(1)\n",
      "memory usage: 516.0+ bytes\n"
     ]
    }
   ],
   "source": [
    "df.info()"
   ]
  },
  {
   "cell_type": "code",
   "execution_count": 18,
   "id": "11743760",
   "metadata": {},
   "outputs": [
    {
     "name": "stdout",
     "output_type": "stream",
     "text": [
      "Quantidade de linha e colunas (24, 2)\n",
      "Quantidade de dados nulos 0\n"
     ]
    }
   ],
   "source": [
    "print(f\"Quantidade de linha e colunas\", df.shape)\n",
    "print(f\"Quantidade de dados nulos\", df.isna().sum().sum())"
   ]
  },
  {
   "cell_type": "code",
   "execution_count": 21,
   "id": "df7f2ecd",
   "metadata": {},
   "outputs": [],
   "source": [
    "df['mes']= pd.to_datetime(df['mes'])"
   ]
  },
  {
   "cell_type": "code",
   "execution_count": 22,
   "id": "b852ebac",
   "metadata": {},
   "outputs": [],
   "source": [
    "df['Aumento'] = df['assinantes'].diff()\n",
    "df['acelaracao'] = df['Aumento'].diff()"
   ]
  },
  {
   "cell_type": "code",
   "execution_count": 23,
   "id": "f625661c",
   "metadata": {},
   "outputs": [
    {
     "data": {
      "text/html": [
       "<div>\n",
       "<style scoped>\n",
       "    .dataframe tbody tr th:only-of-type {\n",
       "        vertical-align: middle;\n",
       "    }\n",
       "\n",
       "    .dataframe tbody tr th {\n",
       "        vertical-align: top;\n",
       "    }\n",
       "\n",
       "    .dataframe thead th {\n",
       "        text-align: right;\n",
       "    }\n",
       "</style>\n",
       "<table border=\"1\" class=\"dataframe\">\n",
       "  <thead>\n",
       "    <tr style=\"text-align: right;\">\n",
       "      <th></th>\n",
       "      <th>mes</th>\n",
       "      <th>assinantes</th>\n",
       "      <th>Aumento</th>\n",
       "      <th>acelaracao</th>\n",
       "    </tr>\n",
       "  </thead>\n",
       "  <tbody>\n",
       "    <tr>\n",
       "      <th>0</th>\n",
       "      <td>2017-01-31</td>\n",
       "      <td>0</td>\n",
       "      <td>NaN</td>\n",
       "      <td>NaN</td>\n",
       "    </tr>\n",
       "    <tr>\n",
       "      <th>1</th>\n",
       "      <td>2017-02-28</td>\n",
       "      <td>10</td>\n",
       "      <td>10.0</td>\n",
       "      <td>NaN</td>\n",
       "    </tr>\n",
       "    <tr>\n",
       "      <th>2</th>\n",
       "      <td>2017-03-31</td>\n",
       "      <td>21</td>\n",
       "      <td>11.0</td>\n",
       "      <td>1.0</td>\n",
       "    </tr>\n",
       "    <tr>\n",
       "      <th>3</th>\n",
       "      <td>2017-04-30</td>\n",
       "      <td>34</td>\n",
       "      <td>13.0</td>\n",
       "      <td>2.0</td>\n",
       "    </tr>\n",
       "    <tr>\n",
       "      <th>4</th>\n",
       "      <td>2017-05-31</td>\n",
       "      <td>49</td>\n",
       "      <td>15.0</td>\n",
       "      <td>2.0</td>\n",
       "    </tr>\n",
       "  </tbody>\n",
       "</table>\n",
       "</div>"
      ],
      "text/plain": [
       "         mes  assinantes  Aumento  acelaracao\n",
       "0 2017-01-31           0      NaN         NaN\n",
       "1 2017-02-28          10     10.0         NaN\n",
       "2 2017-03-31          21     11.0         1.0\n",
       "3 2017-04-30          34     13.0         2.0\n",
       "4 2017-05-31          49     15.0         2.0"
      ]
     },
     "execution_count": 23,
     "metadata": {},
     "output_type": "execute_result"
    }
   ],
   "source": [
    "df.head(5)"
   ]
  },
  {
   "cell_type": "code",
   "execution_count": null,
   "id": "f34891b6",
   "metadata": {},
   "outputs": [],
   "source": [
    "def tres_graficos ():\n",
    "    plt.figure(figsize=(16, 12))\n",
    "    sns.set_style(\"darkgrid\")  # Isso irá aplicar um fundo escuro e grid claro por padrão\n",
    "    # Bloco 1\n",
    "    ax1 = plt.subplot(3, 1, 1)\n",
    "    sns.lineplot(data=alucar, x='mes', y='vendas', ax=ax1)\n",
    "    ax1.set_title('Vendas por mês')\n",
    "\n",
    "    # Bloco 2\n",
    "    ax2 = plt.subplot(3, 1, 2)\n",
    "    sns.lineplot(data=alucar, x='mes', y='Aumento', ax=ax2)\n",
    "    ax2.set_title('Aumento por mês')\n",
    "\n",
    "    # Bloco 3\n",
    "    ax3 = plt.subplot(3, 1, 3)\n",
    "    sns.lineplot(data=alucar, x='mes', y='Aceleracao', ax=ax3)\n",
    "    ax3.set_title('Aceleração por mês')\n",
    "\n",
    "    plt.tight_layout()  # Ajusta automaticamente os espaços entre os subgráficos\n",
    "    plt.show()\n"
   ]
  },
  {
   "cell_type": "code",
   "execution_count": 35,
   "id": "b2510e0f",
   "metadata": {},
   "outputs": [],
   "source": [
    "def plotagem_graficos_tres():\n",
    "\n",
    "    plt.figure(figsize=(12, 6))\n",
    "    sns.set_style(\"darkgrid\")\n",
    "\n",
    "\n",
    "    ax1 = plt.subplot(3,2,1)\n",
    "    sns.lineplot(data=df, x='mes', y='assinante')\n",
    "    ax1.set_title(\"Quantidade de vendas\")\n",
    "\n",
    "\n",
    "    ax2 = plt.subplot(3,2,1)\n",
    "    sns.lineplot(data=df, x='mes', y='Aumento')\n",
    "    ax2.set_title(\"Dados do aumento\")\n",
    "\n",
    "    ax3 = plt.subplot(3,2,1)\n",
    "    sns.lineplot(data=df, x='mes', y='Aceleracao')\n",
    "    ax3.set_title(\"Aceleracao\")\n",
    "\n",
    "    plt.tight_layout()  # Ajusta automaticamente os espaços entre os subgráficos\n",
    "    plt.show()\n",
    "\n"
   ]
  },
  {
   "cell_type": "code",
   "execution_count": null,
   "id": "b6e0d229",
   "metadata": {},
   "outputs": [],
   "source": []
  }
 ],
 "metadata": {
  "kernelspec": {
   "display_name": "base",
   "language": "python",
   "name": "python3"
  },
  "language_info": {
   "codemirror_mode": {
    "name": "ipython",
    "version": 3
   },
   "file_extension": ".py",
   "mimetype": "text/x-python",
   "name": "python",
   "nbconvert_exporter": "python",
   "pygments_lexer": "ipython3",
   "version": "3.13.5"
  }
 },
 "nbformat": 4,
 "nbformat_minor": 5
}
